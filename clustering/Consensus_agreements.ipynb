{
 "cells": [
  {
   "cell_type": "code",
   "execution_count": 3,
   "id": "b8c2959a-4973-436c-86fd-50bdf6356503",
   "metadata": {},
   "outputs": [
    {
     "name": "stdout",
     "output_type": "stream",
     "text": [
      "Packages Loaded!!!\n"
     ]
    }
   ],
   "source": [
    "import pandas as pd\n",
    "import numpy as np\n",
    "import time\n",
    "from sklearn.svm import SVC\n",
    "#import RandomBinningFeatures\n",
    "from sklearn.kernel_approximation import RBFSampler\n",
    "from sklearn.linear_model import RidgeClassifier\n",
    "from sklearn import metrics\n",
    "import scipy\n",
    "import matplotlib.pyplot as plt \n",
    "# import cs\n",
    "import numpy as np # linear algebra\n",
    "import pandas as pd # data processing, CSV file I/O (e.g. pd.read_csv)\n",
    "from sklearn.decomposition import TruncatedSVD\n",
    "import random\n",
    "import os.path as path\n",
    "import os\n",
    "from itertools import cycle\n",
    "from sklearn import svm, datasets\n",
    "from sklearn.metrics import roc_curve, auc\n",
    "from sklearn.model_selection import train_test_split\n",
    "from sklearn.preprocessing import label_binarize\n",
    "from sklearn.multiclass import OneVsRestClassifier\n",
    "from scipy import interp\n",
    "from sklearn.metrics import roc_auc_score\n",
    "\n",
    "\n",
    "# from matplotlib import rc\n",
    "# # for Arial typefont\n",
    "# matplotlib.rcParams['font.family'] = 'Arial'\n",
    "\n",
    "from sklearn.model_selection import train_test_split\n",
    "from sklearn.linear_model import Lasso, LogisticRegression\n",
    "from sklearn.feature_selection import SelectFromModel\n",
    "from sklearn.preprocessing import StandardScaler\n",
    "\n",
    "from sklearn.datasets import load_iris\n",
    "from sklearn.model_selection import train_test_split\n",
    "from sklearn.naive_bayes import GaussianNB\n",
    "from sklearn import metrics\n",
    "from sklearn import svm\n",
    "\n",
    "from sklearn.datasets import load_iris\n",
    "from sklearn.model_selection import train_test_split\n",
    "from sklearn.naive_bayes import GaussianNB\n",
    "from sklearn import metrics\n",
    "\n",
    "import pandas as pd\n",
    "import sklearn\n",
    "from sklearn import preprocessing\n",
    "from sklearn.model_selection import train_test_split \n",
    "from sklearn.preprocessing import StandardScaler  \n",
    "from sklearn.neural_network import MLPClassifier \n",
    "from sklearn.metrics import classification_report, confusion_matrix \n",
    "\n",
    "from sklearn.neighbors import KNeighborsClassifier\n",
    "\n",
    "from sklearn.linear_model import LogisticRegression\n",
    "from sklearn.metrics import classification_report, confusion_matrix\n",
    "\n",
    "from pandas import DataFrame\n",
    "\n",
    "from sklearn.model_selection import KFold \n",
    "from sklearn.model_selection import RepeatedKFold\n",
    "\n",
    "from sklearn.metrics import confusion_matrix\n",
    "\n",
    "from numpy import mean\n",
    "#import seaborn as sns\n",
    "\n",
    "import numpy\n",
    "import matplotlib.pyplot as plt\n",
    "import pandas\n",
    "import math\n",
    "# from keras.models import Sequential\n",
    "# from keras.layers import Dense\n",
    "# from keras.layers import LSTM\n",
    "from sklearn.preprocessing import MinMaxScaler\n",
    "from sklearn.metrics import mean_squared_error\n",
    "import numpy\n",
    "from sklearn.model_selection import cross_val_score\n",
    "from sklearn.model_selection import KFold\n",
    "from sklearn.preprocessing import LabelEncoder\n",
    "from sklearn.pipeline import Pipeline\n",
    "#for clustering, the input data is in variable X_features_test\n",
    "from sklearn.cluster import KMeans\n",
    "\n",
    "\n",
    "print(\"Packages Loaded!!!\")"
   ]
  },
  {
   "cell_type": "code",
   "execution_count": 2,
   "id": "b90470ff-255a-433b-9dcb-36d504b1fa28",
   "metadata": {},
   "outputs": [],
   "source": [
    "X = np.load(\"/ICCABS/Data/kmers_10k/Reduced_Frequency_Vector_kmers.npy\",allow_pickle=True)"
   ]
  },
  {
   "cell_type": "code",
   "execution_count": 3,
   "id": "5971b9eb-4dcb-424e-b4e2-f6bca1b9a6c9",
   "metadata": {},
   "outputs": [
    {
     "name": "stdout",
     "output_type": "stream",
     "text": [
      "Number of Clusters =  8\n",
      "Clustering Time in seconds => 20.79617977142334\n"
     ]
    }
   ],
   "source": [
    "\n",
    "clust_num = 8\n",
    "print(\"Number of Clusters = \",clust_num)\n",
    "\n",
    "start_time = time.time()\n",
    "kmeans = KMeans(n_clusters=clust_num, random_state=0).fit(X)\n",
    "kmer_kmean_clust_labels = kmeans.labels_\n",
    "\n",
    "\n",
    "end_time = time.time() - start_time\n",
    "print(\"Clustering Time in seconds =>\",end_time)"
   ]
  },
  {
   "cell_type": "code",
   "execution_count": 4,
   "id": "7bd9cb8d-6381-4436-8f61-634121bb9a83",
   "metadata": {},
   "outputs": [
    {
     "name": "stdout",
     "output_type": "stream",
     "text": [
      "0    3633\n",
      "6    2475\n",
      "3     418\n",
      "5     155\n",
      "7      69\n",
      "2      59\n",
      "4       2\n",
      "1       1\n",
      "dtype: int64\n"
     ]
    }
   ],
   "source": [
    "idx = pd.Index(kmer_kmean_clust_labels) # creates an index which allows counting the entries easily\n",
    "aa = idx.value_counts()\n",
    "print(aa[0:60])"
   ]
  },
  {
   "cell_type": "code",
   "execution_count": 5,
   "id": "b2e67bfa-dd8b-4b48-876c-6e7d0a30d0fd",
   "metadata": {},
   "outputs": [
    {
     "data": {
      "text/plain": [
       "6812"
      ]
     },
     "execution_count": 5,
     "metadata": {},
     "output_type": "execute_result"
    }
   ],
   "source": [
    "len(kmer_kmean_clust_labels)"
   ]
  },
  {
   "cell_type": "code",
   "execution_count": 7,
   "id": "84300f92-3185-4589-932d-9626473a97e5",
   "metadata": {},
   "outputs": [],
   "source": [
    "import csv\n",
    "write_path_11 = \"/ICCABS/Results/kMeans/kmers_kmean_clust_labels_6812.csv\"\n",
    "\n",
    "with open(write_path_11, 'w', newline='') as file:\n",
    "    writer = csv.writer(file)\n",
    "    for i in range(0,len(kmer_kmean_clust_labels)):\n",
    "        ccv = str(kmer_kmean_clust_labels[i])\n",
    "        writer.writerow([ccv])"
   ]
  },
  {
   "cell_type": "code",
   "execution_count": 14,
   "id": "937fc72c-a328-4c39-bc46-34c5fd4291c9",
   "metadata": {},
   "outputs": [],
   "source": [
    "np.save(\"/ICCABS/Results/kMeans/kmers_kmean_clust_labels_6812.npy\", kmer_kmean_clust_labels)"
   ]
  },
  {
   "cell_type": "code",
   "execution_count": 8,
   "id": "cfdcf2fb-e5ca-47de-83ba-c514fe8ba790",
   "metadata": {},
   "outputs": [],
   "source": [
    "M = np.load(\"/ICCABS/Data/minimizer_10k/Reduced_Frequency_Vector_minimizers.npy\",allow_pickle=True)"
   ]
  },
  {
   "cell_type": "code",
   "execution_count": 9,
   "id": "b1622f8e-e856-4eaa-9655-e5cff6e112f2",
   "metadata": {},
   "outputs": [
    {
     "name": "stdout",
     "output_type": "stream",
     "text": [
      "Number of Clusters =  8\n",
      "Clustering Time in seconds => 43.28853416442871\n"
     ]
    }
   ],
   "source": [
    "clust_num = 8\n",
    "print(\"Number of Clusters = \",clust_num)\n",
    "\n",
    "start_time = time.time()\n",
    "kmeans = KMeans(n_clusters=clust_num, random_state=0).fit(M)\n",
    "minimizer_kmean_clust_labels = kmeans.labels_\n",
    "\n",
    "end_time = time.time() - start_time\n",
    "print(\"Clustering Time in seconds =>\",end_time)"
   ]
  },
  {
   "cell_type": "code",
   "execution_count": 10,
   "id": "056a0213-6224-4c38-858a-f8f1e460f103",
   "metadata": {},
   "outputs": [
    {
     "name": "stdout",
     "output_type": "stream",
     "text": [
      "7    4177\n",
      "0    2273\n",
      "6     175\n",
      "4     107\n",
      "1      68\n",
      "3       9\n",
      "5       2\n",
      "2       1\n",
      "dtype: int64\n"
     ]
    }
   ],
   "source": [
    "idx = pd.Index(minimizer_kmean_clust_labels) # creates an index which allows counting the entries easily\n",
    "aa = idx.value_counts()\n",
    "print(aa[0:60])"
   ]
  },
  {
   "cell_type": "code",
   "execution_count": 12,
   "id": "a8da001f-81dc-458e-93dd-51e2a5d6bed7",
   "metadata": {},
   "outputs": [
    {
     "data": {
      "text/plain": [
       "6812"
      ]
     },
     "execution_count": 12,
     "metadata": {},
     "output_type": "execute_result"
    }
   ],
   "source": [
    "len(minimizer_kmean_clust_labels)"
   ]
  },
  {
   "cell_type": "code",
   "execution_count": 36,
   "id": "bee4ec54-beed-4839-b4e1-8906950ae4bb",
   "metadata": {},
   "outputs": [],
   "source": [
    "import csv\n",
    "write_path_11 = \"/ICCABS/Results/kMeans/minimizer_kmean_clust_labels_6812.csv\"\n",
    "\n",
    "with open(write_path_11, 'w', newline='') as file:\n",
    "    writer = csv.writer(file)\n",
    "    for i in range(0,len(minimizer_cluster_renamed)):\n",
    "        ccv = str(minimizer_cluster_renamed[i])\n",
    "        writer.writerow([ccv])"
   ]
  },
  {
   "cell_type": "code",
   "execution_count": 37,
   "id": "a9e3a66e-2705-49d6-864b-427f9c48a58b",
   "metadata": {},
   "outputs": [],
   "source": [
    "np.save(\"/ICCABS/Results/kMeans/minimizer_kmean_clust_labels_6812.npy\", minimizer_kmean_clust_labels)"
   ]
  },
  {
   "cell_type": "code",
   "execution_count": 16,
   "id": "45826c7e-a273-497c-a5a2-8718a6ca0317",
   "metadata": {},
   "outputs": [],
   "source": [
    "minimizer_cluster_renamed = []\n",
    "for i in range(0,len(minimizer_kmean_clust_labels)):\n",
    "    if (minimizer_kmean_clust_labels[i] == 7):\n",
    "        minimizer_cluster_renamed.append(0)\n",
    "    if (minimizer_kmean_clust_labels[i] == 0):\n",
    "        minimizer_cluster_renamed.append(6)\n",
    "    if (minimizer_kmean_clust_labels[i] == 6):\n",
    "        minimizer_cluster_renamed.append(3)\n",
    "    if (minimizer_kmean_clust_labels[i] == 4):\n",
    "        minimizer_cluster_renamed.append(5)\n",
    "    if (minimizer_kmean_clust_labels[i] == 1):\n",
    "        minimizer_cluster_renamed.append(7)\n",
    "    if (minimizer_kmean_clust_labels[i] == 3):\n",
    "        minimizer_cluster_renamed.append(2)\n",
    "    if (minimizer_kmean_clust_labels[i] == 5):\n",
    "        minimizer_cluster_renamed.append(4)\n",
    "    if (minimizer_kmean_clust_labels[i] == 2):\n",
    "        minimizer_cluster_renamed.append(1)\n",
    "        "
   ]
  },
  {
   "cell_type": "code",
   "execution_count": 17,
   "id": "c067272f-9f36-4da5-9be9-7b1afc4dc99e",
   "metadata": {},
   "outputs": [
    {
     "name": "stdout",
     "output_type": "stream",
     "text": [
      "0    4177\n",
      "6    2273\n",
      "3     175\n",
      "5     107\n",
      "7      68\n",
      "2       9\n",
      "4       2\n",
      "1       1\n",
      "dtype: int64\n"
     ]
    }
   ],
   "source": [
    "idx = pd.Index(minimizer_cluster_renamed) # creates an index which allows counting the entries easily\n",
    "aa = idx.value_counts()\n",
    "print(aa[0:60])"
   ]
  },
  {
   "cell_type": "code",
   "execution_count": 18,
   "id": "0253ab32-c655-433c-814e-cdf8492e59df",
   "metadata": {},
   "outputs": [],
   "source": [
    "index_array = []\n",
    "for i in range(0,len(kmer_kmean_clust_labels)):\n",
    "    if(minimizer_cluster_renamed[i] == kmer_kmean_clust_labels[i]):\n",
    "        index_array.append(i)\n",
    "    "
   ]
  },
  {
   "cell_type": "code",
   "execution_count": 19,
   "id": "89307cd0-c8ca-48ca-acc2-bbbdf56edb4c",
   "metadata": {},
   "outputs": [
    {
     "data": {
      "text/plain": [
       "5738"
      ]
     },
     "execution_count": 19,
     "metadata": {},
     "output_type": "execute_result"
    }
   ],
   "source": [
    "len(index_array)"
   ]
  },
  {
   "cell_type": "code",
   "execution_count": 20,
   "id": "4cc51a0f-0ec3-4ad9-82b8-af2b73c39f0b",
   "metadata": {},
   "outputs": [],
   "source": [
    "np.save(\"/ICCABS/Results/kmeans/index_kmean_minimizer_agreement_kmers.npy\", index_array)"
   ]
  },
  {
   "cell_type": "code",
   "execution_count": 42,
   "id": "f659fac5-7851-448b-ae37-96bbbd4b4852",
   "metadata": {},
   "outputs": [],
   "source": [
    "feature_vector = np.load(\"ICCABS/Data/kmers_10k/Reduced_Frequency_Vector_kmers.npy\",allow_pickle=True)"
   ]
  },
  {
   "cell_type": "code",
   "execution_count": 22,
   "id": "f5557370-1004-4169-b81f-4bf92c4007fc",
   "metadata": {},
   "outputs": [],
   "source": [
    "reduced_freq_vec = []\n",
    "reduced_att = []\n",
    "for i in range(0,len(index_array)):\n",
    "    reduced_freq_vec.append(feature_vector[index_array[i]])\n",
    "    reduced_att.append(kmer_kmean_clust_labels[index_array[i]])"
   ]
  },
  {
   "cell_type": "code",
   "execution_count": 23,
   "id": "0011c480-2808-476b-bd75-5ff44143c433",
   "metadata": {},
   "outputs": [
    {
     "data": {
      "text/plain": [
       "(5738, 5738, array([0, 1, 3, 4, 5, 6, 7]))"
      ]
     },
     "execution_count": 23,
     "metadata": {},
     "output_type": "execute_result"
    }
   ],
   "source": [
    "len(reduced_freq_vec), len(reduced_att), np.unique(reduced_att)"
   ]
  },
  {
   "cell_type": "code",
   "execution_count": 28,
   "id": "49d682bb-dbd0-42f4-b0b0-82e3388828dc",
   "metadata": {},
   "outputs": [],
   "source": [
    "import csv\n",
    "write_path_11 = \"/ICCABS/Results/kMeans/attribute_kmer_agreement.csv\"\n",
    "\n",
    "with open(write_path_11, 'w', newline='') as file:\n",
    "    writer = csv.writer(file)\n",
    "    for i in range(0,len(reduced_att)):\n",
    "        ccv = str(reduced_att[i])\n",
    "        writer.writerow([ccv])"
   ]
  },
  {
   "cell_type": "code",
   "execution_count": 29,
   "id": "200f450b-59f2-4aac-8a37-cb3562b346c8",
   "metadata": {},
   "outputs": [],
   "source": [
    "import csv\n",
    "write_path_11 = \"/ICCABS/Results/kMeans/frequence_vector_kmer_agreement.csv\"\n",
    "\n",
    "with open(write_path_11, 'w', newline='') as file:\n",
    "    writer = csv.writer(file)\n",
    "    for i in range(0,len(reduced_freq_vec)):\n",
    "        ccv = str(reduced_freq_vec[i])\n",
    "        writer.writerow([ccv])"
   ]
  },
  {
   "cell_type": "code",
   "execution_count": 30,
   "id": "d1a19ff3-49f7-4853-857d-ccab25f2f751",
   "metadata": {},
   "outputs": [],
   "source": [
    "np.save(\"/ICCABS/Results/kmeans/frequence_vector_kmer_agreement.npy\", reduced_freq_vec)"
   ]
  },
  {
   "cell_type": "code",
   "execution_count": 38,
   "id": "215a7abe-80f8-4282-889f-0cb6f14a946f",
   "metadata": {},
   "outputs": [],
   "source": [
    "np.save(\"/ICCABS/Results/kmeans/attribute_kmer_agreement.npy\", reduced_att)"
   ]
  },
  {
   "cell_type": "code",
   "execution_count": 47,
   "id": "88ee42bb-9af8-4e42-865d-9e68522894c5",
   "metadata": {},
   "outputs": [],
   "source": [
    "feature_vector_mini = np.load(\"ICCABS/Data/minimizer_10k/Reduced_Frequency_Vector_minimizers.npy\",allow_pickle=True)"
   ]
  },
  {
   "cell_type": "code",
   "execution_count": 44,
   "id": "44f356e6-9015-44dc-83b8-ec3c1989c344",
   "metadata": {},
   "outputs": [],
   "source": [
    "reduced_freq_vec_mini = []\n",
    "reduced_att_mini = []\n",
    "for i in range(0,len(index_array)):\n",
    "    reduced_freq_vec_mini.append(feature_vector_mini[index_array[i]])\n",
    "    reduced_att_mini.append(minimizer_cluster_renamed[index_array[i]])"
   ]
  },
  {
   "cell_type": "code",
   "execution_count": 48,
   "id": "54b9ec66-103f-4e64-b9e6-e6c1478725cd",
   "metadata": {},
   "outputs": [
    {
     "data": {
      "text/plain": [
       "(5738, 5738, array([0, 1, 3, 4, 5, 6, 7]))"
      ]
     },
     "execution_count": 48,
     "metadata": {},
     "output_type": "execute_result"
    }
   ],
   "source": [
    "len(reduced_freq_vec_mini), len(reduced_att_mini), np.unique(reduced_att_mini)"
   ]
  },
  {
   "cell_type": "code",
   "execution_count": 49,
   "id": "e67dd705-a6a4-4828-a8d4-bb42f3e9c706",
   "metadata": {},
   "outputs": [],
   "source": [
    "np.save(\"/ICCABS/Results/kmeans/frequence_vector_minimizer_agreement.npy\", reduced_freq_vec_mini)"
   ]
  },
  {
   "cell_type": "code",
   "execution_count": 50,
   "id": "09350db4-1dee-46d5-9343-1aaeec1240a1",
   "metadata": {},
   "outputs": [],
   "source": [
    "np.save(\"/ICCABS/Results/kmeans/attribute_minimizer_agreement.npy\", reduced_att_mini)"
   ]
  },
  {
   "cell_type": "code",
   "execution_count": 52,
   "id": "d45e14f8-54bc-41a6-a0c0-b8c0bb1c65b0",
   "metadata": {},
   "outputs": [
    {
     "data": {
      "text/plain": [
       "6812"
      ]
     },
     "execution_count": 52,
     "metadata": {},
     "output_type": "execute_result"
    }
   ],
   "source": []
  },
  {
   "cell_type": "code",
   "execution_count": 1,
   "id": "3569933f-c9a3-44aa-bfb0-0fa7e2b731c4",
   "metadata": {},
   "outputs": [],
   "source": [
    "import numpy as np \n",
    "import pandas as pd \n",
    "feature_vector = np.load(\"ICCABS/Data/One_Hot_10k/Reduced_Frequency_Vector_One_Hot.npy\",allow_pickle=True)\n",
    "kmer_kmean_clust_labels = np.load(\"/ICCABS/Results/kMeans/kmers_kmean_clust_labels_6812.npy\",allow_pickle=True)\n",
    "index_array = np.load(\"/ICCABS/Results/kMeans/index_minimizer_agreement_kmers.npy\", allow_pickle=True)"
   ]
  },
  {
   "cell_type": "code",
   "execution_count": 3,
   "id": "f7a85f8b-da3f-4d6c-b550-8d0f49308e3c",
   "metadata": {},
   "outputs": [],
   "source": [
    "reduced_freq_vec_one = []\n",
    "reduced_att_one = []\n",
    "for i in range(0,len(index_array)):\n",
    "    reduced_freq_vec_one.append(feature_vector[index_array[i]])\n",
    "    reduced_att_one.append(kmer_kmean_clust_labels[index_array[i]])"
   ]
  },
  {
   "cell_type": "code",
   "execution_count": 4,
   "id": "078eb709-e600-496b-bc60-396e0bd8cddf",
   "metadata": {},
   "outputs": [
    {
     "data": {
      "text/plain": [
       "(5738, 5738, array([0, 1, 3, 4, 5, 6, 7]))"
      ]
     },
     "execution_count": 4,
     "metadata": {},
     "output_type": "execute_result"
    }
   ],
   "source": [
    "len(reduced_freq_vec_one), len(reduced_att_one), np.unique(reduced_att_one)"
   ]
  },
  {
   "cell_type": "code",
   "execution_count": 1,
   "id": "3687fa8c-61ad-4cab-8564-a56451034472",
   "metadata": {},
   "outputs": [],
   "source": [
    "np.save(\"/ICCABS/Results/kmeans/frequence_vector_ohe_agreement.npy\", reduced_freq_vec_one)"
   ]
  },
  {
   "cell_type": "code",
   "execution_count": null,
   "id": "9300aa99-c4be-4709-8099-efc22a5ab067",
   "metadata": {},
   "outputs": [],
   "source": [
    "np.save(\"/ICCABS/Results/kmeans/attribute_ohe_agreement.npy\", reduced_att_one)"
   ]
  },
  {
   "cell_type": "code",
   "execution_count": 18,
   "id": "8537fae6-9dbb-4003-bc16-9d5768d68185",
   "metadata": {},
   "outputs": [],
   "source": [
    "attribute_data = np.load(\"/ICCABS/Data/kmers_10k/Reduced_Attributes_kmers.npy\",allow_pickle=True)"
   ]
  },
  {
   "cell_type": "code",
   "execution_count": 19,
   "id": "c8aa248d-0bb1-4a60-a0b5-cfa684e0f8cf",
   "metadata": {},
   "outputs": [
    {
     "name": "stdout",
     "output_type": "stream",
     "text": [
      "1268    1832\n",
      "247     1634\n",
      "1511    1541\n",
      "3309     522\n",
      "19       447\n",
      "253      347\n",
      "1908     344\n",
      "127      145\n",
      "dtype: int64\n"
     ]
    }
   ],
   "source": [
    "idx = pd.Index(attribute_data) # creates an index which allows counting the entries easily\n",
    "aa = idx.value_counts()\n",
    "print(aa[0:60])"
   ]
  },
  {
   "cell_type": "code",
   "execution_count": 22,
   "id": "85ae7ed3-92cf-4a6c-b639-26f364798f02",
   "metadata": {},
   "outputs": [],
   "source": [
    "variants = np.load(\"/ICCABS/Data/One_Hot_10k/Reduced_Variants_One_Hot.npy\",allow_pickle=True)"
   ]
  },
  {
   "cell_type": "code",
   "execution_count": 23,
   "id": "5ddfbdbe-ac4a-496b-8c4a-58f0bff6093b",
   "metadata": {},
   "outputs": [
    {
     "name": "stdout",
     "output_type": "stream",
     "text": [
      "B.1.1.7      1832\n",
      "B.1          1634\n",
      "B.1.177      1541\n",
      "B.1.617.2     522\n",
      "A.2           447\n",
      "B.1.1         347\n",
      "B.1.2         344\n",
      "AY.25         145\n",
      "dtype: int64\n"
     ]
    }
   ],
   "source": [
    "idx = pd.Index(variants) # creates an index which allows counting the entries easily\n",
    "aa = idx.value_counts()\n",
    "print(aa[0:60])"
   ]
  },
  {
   "cell_type": "code",
   "execution_count": 24,
   "id": "4357f5e9-0c83-4a84-9e35-3224fdf9f95f",
   "metadata": {},
   "outputs": [],
   "source": [
    "import csv\n",
    "write_path_11 = \"/ICCABS/Results/variants.csv\"\n",
    "\n",
    "with open(write_path_11, 'w', newline='') as file:\n",
    "    writer = csv.writer(file)\n",
    "    for i in range(0,len(variants)):\n",
    "        ccv = str(variants[i])\n",
    "        writer.writerow([ccv])"
   ]
  },
  {
   "cell_type": "code",
   "execution_count": 34,
   "id": "3f8fb052-2163-4116-b668-384caba9f518",
   "metadata": {},
   "outputs": [],
   "source": [
    "index_array = []\n",
    "for i in range(0,len(variants)):\n",
    "    if(variants[i] == kmeans_variants[i]):\n",
    "        index_array.append(i)\n",
    "    \n",
    "        "
   ]
  },
  {
   "cell_type": "code",
   "execution_count": 39,
   "id": "d41f1aa2-a6c9-44f0-843e-430e6ef42bd7",
   "metadata": {},
   "outputs": [
    {
     "data": {
      "text/plain": [
       "5738"
      ]
     },
     "execution_count": 39,
     "metadata": {},
     "output_type": "execute_result"
    }
   ],
   "source": [
    "len(index_array)"
   ]
  },
  {
   "cell_type": "code",
   "execution_count": 55,
   "id": "5aea754a-08e5-499c-ac59-eb9ec4e6b763",
   "metadata": {},
   "outputs": [],
   "source": [
    "np.save(\"/ICCABS/Results/index_kmean_pango_agreement_kmers.npy\", index_array)"
   ]
  },
  {
   "cell_type": "code",
   "execution_count": 40,
   "id": "4f06fe3d-8ca4-4e32-a13a-e7c7748f1af0",
   "metadata": {},
   "outputs": [],
   "source": [
    "feature_vector = np.load(\"/ICCABS/Data/One_Hot_10k/data/Reduced_Frequency_Vector_One_Hot.npy\",allow_pickle=True)\n",
    "# feature_vector = np.load(\"ICCABS/Data/minimizer_10k/Reduced_Frequency_Vector_minimizers.npy\",allow_pickle=True)"
   ]
  },
  {
   "cell_type": "code",
   "execution_count": 41,
   "id": "4c3b771d-6d1c-4eb1-9702-73071dc45a6f",
   "metadata": {},
   "outputs": [
    {
     "ename": "NameError",
     "evalue": "name 'kmeans_variants' is not defined",
     "output_type": "error",
     "traceback": [
      "\u001b[1;31m---------------------------------------------------------------------------\u001b[0m",
      "\u001b[1;31mNameError\u001b[0m                                 Traceback (most recent call last)",
      "\u001b[1;32m<ipython-input-41-1d76168663c5>\u001b[0m in \u001b[0;36m<module>\u001b[1;34m\u001b[0m\n\u001b[0;32m      3\u001b[0m \u001b[1;32mfor\u001b[0m \u001b[0mi\u001b[0m \u001b[1;32min\u001b[0m \u001b[0mrange\u001b[0m\u001b[1;33m(\u001b[0m\u001b[1;36m0\u001b[0m\u001b[1;33m,\u001b[0m\u001b[0mlen\u001b[0m\u001b[1;33m(\u001b[0m\u001b[0mindex_array\u001b[0m\u001b[1;33m)\u001b[0m\u001b[1;33m)\u001b[0m\u001b[1;33m:\u001b[0m\u001b[1;33m\u001b[0m\u001b[1;33m\u001b[0m\u001b[0m\n\u001b[0;32m      4\u001b[0m     \u001b[0mreduced_freq_vec\u001b[0m\u001b[1;33m.\u001b[0m\u001b[0mappend\u001b[0m\u001b[1;33m(\u001b[0m\u001b[0mfeature_vector\u001b[0m\u001b[1;33m[\u001b[0m\u001b[0mindex_array\u001b[0m\u001b[1;33m[\u001b[0m\u001b[0mi\u001b[0m\u001b[1;33m]\u001b[0m\u001b[1;33m]\u001b[0m\u001b[1;33m)\u001b[0m\u001b[1;33m\u001b[0m\u001b[1;33m\u001b[0m\u001b[0m\n\u001b[1;32m----> 5\u001b[1;33m     \u001b[0mreduced_att\u001b[0m\u001b[1;33m.\u001b[0m\u001b[0mappend\u001b[0m\u001b[1;33m(\u001b[0m\u001b[0mkmeans_variants\u001b[0m\u001b[1;33m[\u001b[0m\u001b[0mindex_array\u001b[0m\u001b[1;33m[\u001b[0m\u001b[0mi\u001b[0m\u001b[1;33m]\u001b[0m\u001b[1;33m]\u001b[0m\u001b[1;33m)\u001b[0m\u001b[1;33m\u001b[0m\u001b[1;33m\u001b[0m\u001b[0m\n\u001b[0m",
      "\u001b[1;31mNameError\u001b[0m: name 'kmeans_variants' is not defined"
     ]
    }
   ],
   "source": [
    "reduced_freq_vec = []\n",
    "reduced_att = []\n",
    "for i in range(0,len(index_array)):\n",
    "    reduced_freq_vec.append(feature_vector[index_array[i]])\n",
    "    reduced_att.append(kmeans_variants[index_array[i]])"
   ]
  },
  {
   "cell_type": "code",
   "execution_count": null,
   "id": "69ccec4f-2ded-45ba-80d0-077ca4136738",
   "metadata": {},
   "outputs": [],
   "source": [
    "len(reduced_freq_vec), len(reduced_att), np.unique(reduced_att)"
   ]
  },
  {
   "cell_type": "code",
   "execution_count": 40,
   "id": "140cf1ec-1bc0-4635-b7c8-be1108b3f934",
   "metadata": {},
   "outputs": [],
   "source": [
    "import csv\n",
    "write_path_11 = \"/ICCABS/Results/attribute_kmean_pango_agreement_kmers.csv\"\n",
    "\n",
    "with open(write_path_11, 'w', newline='') as file:\n",
    "    writer = csv.writer(file)\n",
    "    for i in range(0,len(reduced_att)):\n",
    "        ccv = str(reduced_att[i])\n",
    "        writer.writerow([ccv])"
   ]
  },
  {
   "cell_type": "code",
   "execution_count": 41,
   "id": "1fa72076-f14c-40ed-b665-74b31d5b46e0",
   "metadata": {},
   "outputs": [],
   "source": [
    "import csv\n",
    "write_path_11 = \"/ICCABS/Results/index_kmean_pango_agreement_kmers.csv\"\n",
    "\n",
    "with open(write_path_11, 'w', newline='') as file:\n",
    "    writer = csv.writer(file)\n",
    "    for i in range(0,len(index_array)):\n",
    "        ccv = str(index_array[i])\n",
    "        writer.writerow([ccv])"
   ]
  },
  {
   "cell_type": "code",
   "execution_count": 52,
   "id": "cb848cf5-bf79-4e76-a614-763e5ac531b4",
   "metadata": {},
   "outputs": [],
   "source": [
    "np.save(\"/ICCABS/Results/frequence_vector_kmean_pango_agreement_One_Hot.npy\", reduced_freq_vec)\n",
    "# np.save(\"/ICCABS/Results/attribute_kmean_pango_agreement_kmers.npy\", reduced_att)"
   ]
  },
  {
   "cell_type": "code",
   "execution_count": 32,
   "id": "2a345599-870f-4cdb-8c65-52a351935aa1",
   "metadata": {},
   "outputs": [],
   "source": [
    "import pandas as pd\n",
    "\n",
    "a = pd.read_csv(\"/ICCABS/Results/kMeans/frequence_vector_kmean_minimizer_agreement_kmers.csv\")\n",
    "b = pd.read_csv(\"/ICCABS/Results/kMeans/attribute_kmean_minimizer_agreement_kmers.csv\")\n"
   ]
  },
  {
   "cell_type": "code",
   "execution_count": 33,
   "id": "3b57b853-1183-4284-9633-1ee0b01a0240",
   "metadata": {},
   "outputs": [
    {
     "data": {
      "text/plain": [
       "((5737, 1), (5737, 1))"
      ]
     },
     "execution_count": 33,
     "metadata": {},
     "output_type": "execute_result"
    }
   ],
   "source": [
    "a.shape, b.shape"
   ]
  },
  {
   "cell_type": "code",
   "execution_count": 34,
   "id": "a2ac962d-625b-4775-a8ff-31200abfe205",
   "metadata": {},
   "outputs": [
    {
     "data": {
      "text/plain": [
       "(5737, 2)"
      ]
     },
     "execution_count": 34,
     "metadata": {},
     "output_type": "execute_result"
    }
   ],
   "source": [
    "df = pd.concat([a,b],axis = 1)\n",
    "df.shape"
   ]
  },
  {
   "cell_type": "code",
   "execution_count": 35,
   "id": "96db9178-9f00-4d9e-a401-1163a7d9c1db",
   "metadata": {},
   "outputs": [],
   "source": [
    "df.to_csv('/ICCABS/Results/kMeans/weka/weka_5737_minimizer_agreement_kmers.csv')"
   ]
  }
 ],
 "metadata": {
  "kernelspec": {
   "display_name": "Python 3 (ipykernel)",
   "language": "python",
   "name": "python3"
  },
  "language_info": {
   "codemirror_mode": {
    "name": "ipython",
    "version": 3
   },
   "file_extension": ".py",
   "mimetype": "text/x-python",
   "name": "python",
   "nbconvert_exporter": "python",
   "pygments_lexer": "ipython3",
   "version": "3.8.12"
  }
 },
 "nbformat": 4,
 "nbformat_minor": 5
}
