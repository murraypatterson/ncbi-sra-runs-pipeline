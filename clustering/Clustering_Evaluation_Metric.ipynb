{
 "cells": [
  {
   "cell_type": "code",
   "execution_count": 1,
   "id": "35fad893-1cb8-4692-ba68-782dd6102a54",
   "metadata": {},
   "outputs": [
    {
     "name": "stdout",
     "output_type": "stream",
     "text": [
      "done\n"
     ]
    }
   ],
   "source": [
    "import numpy as np # linear algebra\n",
    "import pandas as pd # data processing, CSV file I/O (e.g. pd.read_csv)\n",
    "from sklearn.decomposition import TruncatedSVD\n",
    "import random\n",
    "# import seaborn as sns\n",
    "import os.path as path\n",
    "import os\n",
    "# import matplotlib\n",
    "# import matplotlib.font_manager\n",
    "import matplotlib.pyplot as plt # graphs plotting\n",
    "# import Bio\n",
    "from Bio import SeqIO # some BioPython that will come in handy\n",
    "#matplotlib inline\n",
    "\n",
    "from itertools import cycle\n",
    "\n",
    "from sklearn import svm, datasets\n",
    "from sklearn.metrics import roc_curve, auc\n",
    "from sklearn.model_selection import train_test_split\n",
    "from sklearn.preprocessing import label_binarize\n",
    "from sklearn.multiclass import OneVsRestClassifier\n",
    "from scipy import interp\n",
    "from sklearn.metrics import roc_auc_score\n",
    "\n",
    "\n",
    "# from matplotlib import rc\n",
    "# # for Arial typefont\n",
    "# matplotlib.rcParams['font.family'] = 'Arial'\n",
    "\n",
    "from sklearn.model_selection import train_test_split\n",
    "from sklearn.linear_model import Lasso, LogisticRegression\n",
    "from sklearn.feature_selection import SelectFromModel\n",
    "from sklearn.preprocessing import StandardScaler\n",
    "\n",
    "from sklearn.datasets import load_iris\n",
    "from sklearn.model_selection import train_test_split\n",
    "from sklearn.naive_bayes import GaussianNB\n",
    "from sklearn import metrics\n",
    "from sklearn import svm\n",
    "\n",
    "from sklearn.datasets import load_iris\n",
    "from sklearn.model_selection import train_test_split\n",
    "from sklearn.naive_bayes import GaussianNB\n",
    "from sklearn import metrics\n",
    "\n",
    "import pandas as pd\n",
    "import sklearn\n",
    "from sklearn import preprocessing\n",
    "from sklearn.model_selection import train_test_split \n",
    "from sklearn.preprocessing import StandardScaler  \n",
    "from sklearn.neural_network import MLPClassifier \n",
    "from sklearn.metrics import classification_report, confusion_matrix \n",
    "\n",
    "from sklearn.neighbors import KNeighborsClassifier\n",
    "\n",
    "from sklearn.linear_model import LogisticRegression\n",
    "from sklearn.metrics import classification_report, confusion_matrix\n",
    "\n",
    "from pandas import DataFrame\n",
    "\n",
    "from sklearn.model_selection import KFold \n",
    "from sklearn.model_selection import RepeatedKFold\n",
    "\n",
    "from sklearn.metrics import confusion_matrix\n",
    "\n",
    "from numpy import mean\n",
    "\n",
    "import seaborn as sns\n",
    "\n",
    "import itertools\n",
    "from itertools import product\n",
    "import timeit\n",
    "\n",
    "\n",
    "## for Palatino and other serif fonts use:\n",
    "# rc('font',**{'family':'serif','serif':['Palatino']})\n",
    "# matplotlib.rcParams['mathtext.fontset'] = 'cm'\n",
    "\n",
    "## for LaTeX typefont\n",
    "# matplotlib.rcParams['mathtext.fontset'] = 'stix'\n",
    "# matplotlib.rcParams['font.family'] = 'STIXGeneral'\n",
    "\n",
    "## for another LaTeX typefont\n",
    "# rc('font',**{'family':'sans-serif','sans-serif':['Helvetica']})\n",
    "\n",
    "# rc('text', usetex = True)\n",
    "\n",
    "print(\"done\")"
   ]
  },
  {
   "cell_type": "code",
   "execution_count": 2,
   "id": "dcede32c-0f44-4a8e-9a16-81e5134636ec",
   "metadata": {},
   "outputs": [],
   "source": [
    "# feature_vector = np.load(\"/ICCABS/Data/One_Hot_10k/Reduced_Frequency_Vector_kmers.npy\",allow_pickle=True)\n",
    "# feature_vector = np.load(\"/ICCABS/Data/minimizer_10k/Reduced_Frequency_Vector_minimizers.npy\",allow_pickle=True)\n",
    "feature_vector = np.load(\"/ICCABS/Data/kmers_10k/Reduced_Frequency_Vector_kmers.npy\",allow_pickle=True)"
   ]
  },
  {
   "cell_type": "code",
   "execution_count": 3,
   "id": "4855fee2-ebfc-40b4-8f55-23db5fda2226",
   "metadata": {},
   "outputs": [],
   "source": [
    "X = feature_vector[:]"
   ]
  },
  {
   "cell_type": "code",
   "execution_count": 4,
   "id": "2cbda8cc-6ad5-4771-ad7b-c79b312e6027",
   "metadata": {},
   "outputs": [
    {
     "data": {
      "text/plain": [
       "(6812, 15625)"
      ]
     },
     "execution_count": 4,
     "metadata": {},
     "output_type": "execute_result"
    }
   ],
   "source": [
    "feature_vector.shape"
   ]
  },
  {
   "cell_type": "code",
   "execution_count": 5,
   "id": "8bba24fb-8c0d-48f8-98c7-c065c992979c",
   "metadata": {},
   "outputs": [],
   "source": [
    "# np.unique(attribute)"
   ]
  },
  {
   "cell_type": "code",
   "execution_count": 6,
   "id": "7a8e955d-0d40-4a73-bed7-70fe3b16e9df",
   "metadata": {},
   "outputs": [
    {
     "name": "stdout",
     "output_type": "stream",
     "text": [
      "Kmeans Time :  13.568266700000095\n"
     ]
    }
   ],
   "source": [
    "from sklearn.cluster import KMeans\n",
    "# print(\"Number of Clusters = \",number_of_clusters[clust_ind])\n",
    "clust_num = 5\n",
    "\n",
    "start = timeit.default_timer()\n",
    "\n",
    "kmeans = KMeans(n_clusters=clust_num, random_state=50).fit(X)\n",
    "kmean_clust_labels = kmeans.labels_\n",
    "\n",
    "stop = timeit.default_timer()\n",
    "print(\"Kmeans Time : \", stop - start)"
   ]
  },
  {
   "cell_type": "code",
   "execution_count": null,
   "id": "84daadc6-ac34-45a5-a689-41535a86da56",
   "metadata": {},
   "outputs": [],
   "source": [
    "from sklearn.metrics import *\n",
    "# Pango Labels Convert to int and kmeans,labels_\n",
    "score = silhouette_score(X, kmeans.labels_, metric='euclidean')\n",
    "score = silhouette_score(X, kmeans.labels_, metric='euclidean')\n",
    "#\n",
    "# Print the score\n",
    "#\n",
    "print('Silhouetter Score: %.3f' % score)"
   ]
  },
  {
   "cell_type": "code",
   "execution_count": null,
   "id": "98c4b28d-97c0-4918-b109-6c55cb682672",
   "metadata": {},
   "outputs": [],
   "source": [
    "calinski_score = calinski_harabasz_score(X, kmeans.labels_)\n",
    "print('calinski Score: %.3f' % calinski_score)"
   ]
  },
  {
   "cell_type": "code",
   "execution_count": null,
   "id": "e2278bf9-aad9-4fdf-a732-784cbd798b51",
   "metadata": {},
   "outputs": [],
   "source": [
    "davies_score = davies_bouldin_score(X, kmeans.labels_)\n",
    "print('calinski Score: %.3f' % davies_score)"
   ]
  },
  {
   "cell_type": "markdown",
   "id": "93e6b375-57ef-427a-a1ce-c7f166078749",
   "metadata": {},
   "source": [
    "## kMode"
   ]
  },
  {
   "cell_type": "code",
   "execution_count": 7,
   "id": "4cbea4f5-4b96-4ed0-912d-528e5650996e",
   "metadata": {},
   "outputs": [
    {
     "name": "stdout",
     "output_type": "stream",
     "text": [
      "KMode Time :  3611.6948181\n"
     ]
    }
   ],
   "source": [
    "from kmodes.kmodes import KModes\n",
    "\n",
    "# print(\"Number of Clusters = \",number_of_clusters[clust_ind])\n",
    "clust_num = 5\n",
    "\n",
    "start = timeit.default_timer()\n",
    "\n",
    "kmodes = KModes(n_clusters=clust_num, random_state=50).fit(X)\n",
    "kmodes_clust_labels = kmodes.labels_\n",
    "\n",
    "stop = timeit.default_timer()\n",
    "print(\"KMode Time : \", stop - start)\n"
   ]
  },
  {
   "cell_type": "code",
   "execution_count": 8,
   "id": "343abec1-8aa1-4561-bf17-56786283ee4f",
   "metadata": {},
   "outputs": [
    {
     "name": "stdout",
     "output_type": "stream",
     "text": [
      "Silhouetter Score: -0.398\n"
     ]
    }
   ],
   "source": [
    "from sklearn.metrics import *\n",
    "# Pango Labels Convert to int and kmeans,labels_\n",
    "score = silhouette_score(X, kmodes.labels_, metric='euclidean')\n",
    "score = silhouette_score(X, kmodes.labels_, metric='euclidean')\n",
    "#\n",
    "# Print the score\n",
    "#\n",
    "print('Silhouetter Score: %.3f' % score)"
   ]
  },
  {
   "cell_type": "code",
   "execution_count": 9,
   "id": "cb6a1797-b7df-4047-adba-4bd72f704603",
   "metadata": {},
   "outputs": [
    {
     "name": "stdout",
     "output_type": "stream",
     "text": [
      "calinski Score: 1196.777\n"
     ]
    }
   ],
   "source": [
    "calinski_score = calinski_harabasz_score(X, kmodes.labels_)\n",
    "print('calinski Score: %.3f' % calinski_score)"
   ]
  },
  {
   "cell_type": "code",
   "execution_count": 2,
   "id": "8837c82c-5cc9-4099-89d7-05db36b3294d",
   "metadata": {},
   "outputs": [
    {
     "ename": "NameError",
     "evalue": "name 'davies_bouldin_score' is not defined",
     "output_type": "error",
     "traceback": [
      "\u001b[1;31m---------------------------------------------------------------------------\u001b[0m",
      "\u001b[1;31mNameError\u001b[0m                                 Traceback (most recent call last)",
      "\u001b[1;32mC:\\Users\\PCHOUR~1\\AppData\\Local\\Temp/ipykernel_7696/4176703817.py\u001b[0m in \u001b[0;36m<module>\u001b[1;34m\u001b[0m\n\u001b[1;32m----> 1\u001b[1;33m \u001b[0mdavies_score\u001b[0m \u001b[1;33m=\u001b[0m \u001b[0mdavies_bouldin_score\u001b[0m\u001b[1;33m(\u001b[0m\u001b[0mX\u001b[0m\u001b[1;33m,\u001b[0m \u001b[0mkmodes\u001b[0m\u001b[1;33m.\u001b[0m\u001b[0mlabels_\u001b[0m\u001b[1;33m)\u001b[0m\u001b[1;33m\u001b[0m\u001b[1;33m\u001b[0m\u001b[0m\n\u001b[0m\u001b[0;32m      2\u001b[0m \u001b[0mprint\u001b[0m\u001b[1;33m(\u001b[0m\u001b[1;34m'davies_score: %.3f'\u001b[0m \u001b[1;33m%\u001b[0m \u001b[0mdavies_score\u001b[0m\u001b[1;33m)\u001b[0m\u001b[1;33m\u001b[0m\u001b[1;33m\u001b[0m\u001b[0m\n",
      "\u001b[1;31mNameError\u001b[0m: name 'davies_bouldin_score' is not defined"
     ]
    }
   ],
   "source": [
    "davies_score = davies_bouldin_score(X, kmodes.labels_)\n",
    "print('davies_score: %.3f' % davies_score)"
   ]
  },
  {
   "cell_type": "code",
   "execution_count": null,
   "id": "ec2d6e2a-f60b-42af-aa0b-75fa342eb71b",
   "metadata": {},
   "outputs": [],
   "source": []
  }
 ],
 "metadata": {
  "kernelspec": {
   "display_name": "Python 3 (ipykernel)",
   "language": "python",
   "name": "python3"
  },
  "language_info": {
   "codemirror_mode": {
    "name": "ipython",
    "version": 3
   },
   "file_extension": ".py",
   "mimetype": "text/x-python",
   "name": "python",
   "nbconvert_exporter": "python",
   "pygments_lexer": "ipython3",
   "version": "3.8.12"
  }
 },
 "nbformat": 4,
 "nbformat_minor": 5
}
