{
 "cells": [
  {
   "cell_type": "code",
   "execution_count": 1,
   "metadata": {},
   "outputs": [
    {
     "name": "stdout",
     "output_type": "stream",
     "text": [
      "Packages imported\n"
     ]
    }
   ],
   "source": [
    "import numpy as np # linear algebra\n",
    "import pandas as pd # data processing, CSV file I/O (e.g. pd.read_csv)\n",
    "from sklearn.decomposition import TruncatedSVD\n",
    "import random\n",
    "import seaborn as sns\n",
    "import os.path as path\n",
    "import os\n",
    "import matplotlib\n",
    "import matplotlib.font_manager\n",
    "import matplotlib.pyplot as plt # graphs plotting\n",
    "from Bio import SeqIO # some BioPython that will come in handy\n",
    "#matplotlib inline\n",
    "import numpy\n",
    "import csv \n",
    "\n",
    "from matplotlib import rc\n",
    "\n",
    "from sklearn.model_selection import train_test_split\n",
    "from sklearn.linear_model import Lasso, LogisticRegression\n",
    "from sklearn.feature_selection import SelectFromModel\n",
    "from sklearn.preprocessing import StandardScaler\n",
    "\n",
    "from sklearn.datasets import load_iris\n",
    "from sklearn.model_selection import train_test_split\n",
    "from sklearn.naive_bayes import GaussianNB\n",
    "from sklearn import metrics\n",
    "from sklearn import svm\n",
    "\n",
    "from sklearn.datasets import load_iris\n",
    "from sklearn.model_selection import train_test_split\n",
    "from sklearn.naive_bayes import GaussianNB\n",
    "from sklearn import metrics\n",
    "\n",
    "import pandas as pd\n",
    "import sklearn\n",
    "from sklearn import preprocessing\n",
    "from sklearn.model_selection import train_test_split \n",
    "from sklearn.preprocessing import StandardScaler  \n",
    "from sklearn.neural_network import MLPClassifier \n",
    "from sklearn.metrics import classification_report, confusion_matrix \n",
    "\n",
    "from sklearn.neighbors import KNeighborsClassifier\n",
    "\n",
    "from sklearn.linear_model import LogisticRegression\n",
    "from sklearn.metrics import classification_report, confusion_matrix\n",
    "\n",
    "from pandas import DataFrame\n",
    "\n",
    "from sklearn.model_selection import KFold \n",
    "from sklearn.model_selection import RepeatedKFold\n",
    "\n",
    "from sklearn.metrics import confusion_matrix\n",
    "\n",
    "from numpy import mean\n",
    "\n",
    "\n",
    "from itertools import cycle\n",
    "\n",
    "from sklearn import svm, datasets\n",
    "from sklearn.metrics import roc_curve, auc\n",
    "from sklearn.model_selection import train_test_split\n",
    "from sklearn.preprocessing import label_binarize\n",
    "from sklearn.multiclass import OneVsRestClassifier\n",
    "from scipy import interp\n",
    "from sklearn.metrics import roc_auc_score\n",
    "\n",
    "import statistics\n",
    "\n",
    "from sklearn.cluster import KMeans\n",
    "\n",
    "from sklearn.datasets import load_digits\n",
    "from sklearn.decomposition import KernelPCA\n",
    "\n",
    "import math\n",
    "from sklearn.cluster import AgglomerativeClustering\n",
    "from sklearn.metrics import confusion_matrix\n",
    "\n",
    "# for Arial typefont\n",
    "matplotlib.rcParams['font.family'] = 'Arial'\n",
    "\n",
    "\n",
    "## for Palatino and other serif fonts use:\n",
    "# rc('font',**{'family':'serif','serif':['Palatino']})\n",
    "# matplotlib.rcParams['mathtext.fontset'] = 'cm'\n",
    "\n",
    "## for LaTeX typefont\n",
    "# matplotlib.rcParams['mathtext.fontset'] = 'stix'\n",
    "# matplotlib.rcParams['font.family'] = 'STIXGeneral'\n",
    "\n",
    "## for another LaTeX typefont\n",
    "# rc('font',**{'family':'sans-serif','sans-serif':['Helvetica']})\n",
    "\n",
    "# rc('text', usetex = True)\n",
    "\n",
    "print(\"Packages imported\")"
   ]
  },
  {
   "cell_type": "code",
   "execution_count": 9,
   "metadata": {},
   "outputs": [],
   "source": [
    "# final_feature_vector = np.load(\"ICCABS/Data/kmers_10k/frequence_vector_kmer_agreement.npy\",allow_pickle=True)\n",
    "# final_feature_vector = np.load(\"ICCABS/Data/minimizer_10k/frequence_vector_minimizer_agreement.npy\",allow_pickle=True)\n",
    "final_feature_vector = np.load(\"ICCABS/Data/One_Hot_10k/frequence_vector_ohe_agreement.npy\",allow_pickle=True)\n",
    "# attribute_data = np.load(\"ICCABS/Results/kmeans/attribute_kmer_agreement.npy\",allow_pickle=True)\n",
    "# attribute_data = np.load(\"ICCABS/Results/kmeans/attribute_minimizer_agreement.npy\",allow_pickle=True)\n",
    "attribute_data = np.load(\"ICCABS/Results/kmeans/attribute_ohe_agreement.npy\",allow_pickle=True)"
   ]
  },
  {
   "cell_type": "code",
   "execution_count": 15,
   "metadata": {},
   "outputs": [
    {
     "data": {
      "text/plain": [
       "5738"
      ]
     },
     "execution_count": 15,
     "metadata": {},
     "output_type": "execute_result"
    }
   ],
   "source": [
    "len(attribute_data)"
   ]
  },
  {
   "cell_type": "code",
   "execution_count": 16,
   "metadata": {},
   "outputs": [
    {
     "name": "stdout",
     "output_type": "stream",
     "text": [
      "0    3599\n",
      "6    1940\n",
      "3      79\n",
      "5      61\n",
      "7      56\n",
      "4       2\n",
      "1       1\n",
      "dtype: int64\n"
     ]
    }
   ],
   "source": [
    "idx = pd.Index(attribute_data) # creates an index which allows counting the entries easily\n",
    "aa = idx.value_counts()\n",
    "print(aa[0:60])"
   ]
  },
  {
   "cell_type": "code",
   "execution_count": 17,
   "metadata": {},
   "outputs": [
    {
     "data": {
      "text/plain": [
       "(5738, 5738)"
      ]
     },
     "execution_count": 17,
     "metadata": {},
     "output_type": "execute_result"
    }
   ],
   "source": [
    "len(final_feature_vector), len(attribute_data)"
   ]
  },
  {
   "cell_type": "code",
   "execution_count": 19,
   "metadata": {},
   "outputs": [],
   "source": [
    "int_hosts = attribute_data[:]"
   ]
  },
  {
   "cell_type": "code",
   "execution_count": 20,
   "metadata": {},
   "outputs": [
    {
     "data": {
      "text/plain": [
       "(712272, array([0, 1, 3, 4, 5, 6, 7]))"
      ]
     },
     "execution_count": 20,
     "metadata": {},
     "output_type": "execute_result"
    }
   ],
   "source": [
    "len(final_feature_vector[1]), np.unique(int_hosts)"
   ]
  },
  {
   "cell_type": "code",
   "execution_count": 35,
   "metadata": {},
   "outputs": [
    {
     "name": "stdout",
     "output_type": "stream",
     "text": [
      "Attributes Unique length 5\n",
      "Attribute data preprocessing Done\n"
     ]
    }
   ],
   "source": [
    "print(\"Attributes Unique length\", len(np.unique(attribute_data)))\n",
    "\n",
    "attribute_str =[]\n",
    "for i in range(len(attribute_data)):\n",
    "    attribute_str.append(str(attribute_data[i]))\n",
    "    \n",
    "unique_hst = np.unique(attribute_str)\n",
    "\n",
    "int_hosts = []\n",
    "for ind_unique in range(len(attribute_str)):\n",
    "    variant_tmp = attribute_str[ind_unique]\n",
    "    ind_tmp = str(unique_hst).index(variant_tmp)\n",
    "    int_hosts.append(ind_tmp)\n",
    "    \n",
    "print(\"Attribute data preprocessing Done\")"
   ]
  },
  {
   "cell_type": "code",
   "execution_count": 21,
   "metadata": {},
   "outputs": [
    {
     "data": {
      "text/plain": [
       "(0, 5738)"
      ]
     },
     "execution_count": 21,
     "metadata": {},
     "output_type": "execute_result"
    }
   ],
   "source": [
    "int_hosts[6], len(int_hosts)"
   ]
  },
  {
   "cell_type": "code",
   "execution_count": 22,
   "metadata": {},
   "outputs": [
    {
     "name": "stderr",
     "output_type": "stream",
     "text": [
      "C:\\Users\\pchourasia1\\Anaconda3\\lib\\site-packages\\scipy\\stats\\stats.py:3913: PearsonRConstantInputWarning: An input array is constant; the correlation coefficent is not defined.\n",
      "  warnings.warn(PearsonRConstantInputWarning())\n",
      "C:\\Users\\pchourasia1\\Anaconda3\\lib\\site-packages\\scipy\\stats\\stats.py:4264: SpearmanRConstantInputWarning: An input array is constant; the correlation coefficent is not defined.\n",
      "  warnings.warn(SpearmanRConstantInputWarning())\n"
     ]
    }
   ],
   "source": [
    "import scipy\n",
    "\n",
    "\n",
    "pearson_val_lst = []\n",
    "pearson_val_p_value_lst = []\n",
    "\n",
    "spearman_val_lst = []\n",
    "spearman_val_p_value_lst = []\n",
    "\n",
    "for j in range(len(final_feature_vector[0])):\n",
    "    x_val = []\n",
    "    for i in range(len(final_feature_vector)):\n",
    "        aa = final_feature_vector[i]\n",
    "        x_val.append(aa[j])\n",
    "    pearson_val = scipy.stats.pearsonr(x_val, int_hosts)\n",
    "    pearson_val_lst.append(pearson_val[0])\n",
    "    tmp1 = \"{:.7f}\". format(pearson_val[1])\n",
    "    pearson_val_p_value_lst.append(tmp1)\n",
    "    \n",
    "    spearman_val = scipy.stats.spearmanr(x_val, int_hosts)\n",
    "    tmp3 = \"{:.7f}\". format(spearman_val[0])\n",
    "    spearman_val_lst.append(tmp3)\n",
    "    tmp2 = \"{:.7f}\". format(spearman_val[1])\n",
    "    spearman_val_p_value_lst.append(tmp2)"
   ]
  },
  {
   "cell_type": "code",
   "execution_count": 1,
   "metadata": {},
   "outputs": [],
   "source": [
    "# spearman_val_lst"
   ]
  },
  {
   "cell_type": "code",
   "execution_count": 24,
   "metadata": {},
   "outputs": [],
   "source": [
    "\n",
    "import csv\n",
    "write_path_11 = \"C:/Users/pchourasia1/Desktop/Spring Research 2022/ICCABS/Results/kMeans/Correlation/ohe_pearson_correlation.csv\"\n",
    "\n",
    "with open(write_path_11, 'w', newline='') as file:\n",
    "    writer = csv.writer(file)\n",
    "    for i in range(0,len(pearson_val_lst)):\n",
    "        ccv = str(pearson_val_lst[i])\n",
    "        writer.writerow([ccv])\n",
    "        \n",
    "# write_path_11 = \"C:/Users/pchourasia1/Desktop/Spring Research 2022/ISMB/Results/clinical_2_one_hot_pearson_correlation_p_value.csv\"\n",
    "\n",
    "# with open(write_path_11, 'w', newline='') as file:\n",
    "#     writer = csv.writer(file)\n",
    "#     for i in range(0,len(pearson_val_p_value_lst)):\n",
    "#         ccv = str(pearson_val_p_value_lst[i])\n",
    "#         writer.writerow([ccv])\n",
    "        \n",
    "write_path_11 = \"C:/Users/pchourasia1/Desktop/Spring Research 2022/ICCABS/Results/kMeans/Correlation/ohe_spearman_correlation.csv\"\n",
    "\n",
    "with open(write_path_11, 'w', newline='') as file:\n",
    "    writer = csv.writer(file)\n",
    "    for i in range(0,len(spearman_val_lst)):\n",
    "        ccv = str(spearman_val_lst[i])\n",
    "        writer.writerow([ccv])\n",
    "        \n",
    "# write_path_11 = \"C:/Users/pchourasia1/Desktop/Spring Research 2022/ISMB/Results/clinical_2_one_hot_spearman_correlation_p.csv\"\n",
    "\n",
    "# with open(write_path_11, 'w', newline='') as file:\n",
    "#     writer = csv.writer(file)\n",
    "#     for i in range(0,len(spearman_val_p_value_lst)):\n",
    "#         ccv = str(spearman_val_p_value_lst[i])\n",
    "#         writer.writerow([ccv])"
   ]
  },
  {
   "cell_type": "code",
   "execution_count": null,
   "metadata": {},
   "outputs": [],
   "source": []
  }
 ],
 "metadata": {
  "kernelspec": {
   "display_name": "Python 3 (ipykernel)",
   "language": "python",
   "name": "python3"
  },
  "language_info": {
   "codemirror_mode": {
    "name": "ipython",
    "version": 3
   },
   "file_extension": ".py",
   "mimetype": "text/x-python",
   "name": "python",
   "nbconvert_exporter": "python",
   "pygments_lexer": "ipython3",
   "version": "3.8.12"
  }
 },
 "nbformat": 4,
 "nbformat_minor": 4
}
